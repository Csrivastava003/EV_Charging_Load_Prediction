{
 "cells": [
  {
   "cell_type": "markdown",
   "id": "96bab207-8a44-4da0-88e6-ca5d3ac8b002",
   "metadata": {},
   "source": [
    "# Testing RNN models to predict charging demand at an EV charging station"
   ]
  },
  {
   "cell_type": "markdown",
   "id": "32c5570f-0933-4f03-859c-496fc842c9f8",
   "metadata": {},
   "source": [
    "#### Import packages"
   ]
  },
  {
   "cell_type": "code",
   "execution_count": 1,
   "id": "e9681804-d36c-4d35-8bb5-f06d7a9f73bd",
   "metadata": {},
   "outputs": [],
   "source": [
    "import tensorflow as tf\n",
    "import numpy as np\n",
    "import matplotlib.pyplot as plt\n",
    "import pandas as pd\n",
    "\n",
    "from plot_utils import plot_series\n",
    "from data_handler import load_dataset\n",
    "from sklearn.preprocessing import MinMaxScaler"
   ]
  },
  {
   "cell_type": "markdown",
   "id": "77ab0a77-dcc3-45b5-901a-08a9e4f52710",
   "metadata": {},
   "source": [
    "#### Load and prepare the dataset"
   ]
  },
  {
   "cell_type": "code",
   "execution_count": 2,
   "id": "f13aa9e3-3edd-4a19-b1be-701f36c2a42c",
   "metadata": {},
   "outputs": [],
   "source": [
    "dataset = \"ACN_data\"\n",
    "series,times = load_dataset(dataset)\n",
    "\n",
    "scaler = MinMaxScaler(feature_range=(0.1, 1)) #Also try QuantileTransformer\n",
    "series_scaled = scaler.fit_transform(series)\n",
    "\n",
    "split_time = int(len(times) * 0.66)\n",
    "\n",
    "\n",
    "time_test = times[split_time:]\n",
    "x_test = series[split_time:] # No scaled\n",
    "x_test_scaled = series_scaled[split_time:]"
   ]
  },
  {
   "cell_type": "markdown",
   "id": "0fa7969d-4bd1-404a-83ee-cfbcce558954",
   "metadata": {},
   "source": [
    "## 1. Load the model"
   ]
  },
  {
   "cell_type": "code",
   "execution_count": 4,
   "id": "b31e69f5-a8ac-4f44-be96-4925e430ced4",
   "metadata": {},
   "outputs": [
    {
     "name": "stderr",
     "output_type": "stream",
     "text": [
      "2022-05-20 13:25:19.343465: I tensorflow/core/platform/cpu_feature_guard.cc:151] This TensorFlow binary is optimized with oneAPI Deep Neural Network Library (oneDNN) to use the following CPU instructions in performance-critical operations:  AVX2 FMA\n",
      "To enable them in other operations, rebuild TensorFlow with the appropriate compiler flags.\n",
      "/Users/curro/opt/anaconda3/lib/python3.8/site-packages/keras/layers/core/lambda_layer.py:297: UserWarning: model_utils is not loaded, but a Lambda layer uses it. It may cause errors.\n",
      "  function = cls._parse_function_from_config(config, custom_objects,\n"
     ]
    }
   ],
   "source": [
    "model = tf.keras.models.load_model('Results/train_Simple_ANN_ws96_epochs2_results/Simple_ANN_ws96_epochs2_model.h5')"
   ]
  },
  {
   "cell_type": "markdown",
   "id": "7db1040d-9b4a-4c7e-bbe0-468b870a8ba0",
   "metadata": {},
   "source": [
    "#### Specify model parameters"
   ]
  },
  {
   "cell_type": "code",
   "execution_count": 6,
   "id": "b32fa1a1-ab63-4016-9170-eecd5ad40b24",
   "metadata": {},
   "outputs": [],
   "source": [
    "window_size = 24 * 4 # 4 days\n",
    "num_features = 1\n",
    "\n",
    "future = 24"
   ]
  },
  {
   "cell_type": "markdown",
   "id": "796f5afc-f330-4692-a761-c7ef6d8a6fec",
   "metadata": {},
   "source": [
    "## 2. Forecast test values"
   ]
  },
  {
   "cell_type": "markdown",
   "id": "9d631e7f-fd20-45c7-8b17-eeb2d0e2ada4",
   "metadata": {},
   "source": [
    "Modify the starting point to forecast future values"
   ]
  },
  {
   "cell_type": "code",
   "execution_count": 20,
   "id": "4e68d411-286f-4f8f-92b6-b9cbb096b538",
   "metadata": {},
   "outputs": [],
   "source": [
    "start = 0 #48"
   ]
  },
  {
   "cell_type": "code",
   "execution_count": 21,
   "id": "2eaa2a7f-538f-4913-9a2e-2f22ae5d4393",
   "metadata": {},
   "outputs": [
    {
     "data": {
      "image/png": "[encoded data removed]",
      "text/plain": [
       "<Figure size 432x288 with 1 Axes>"
      ]
     },
     "metadata": {
      "needs_background": "light"
     },
     "output_type": "display_data"
    }
   ],
   "source": [
    "prediction=[]\n",
    "current_batch = x_test_scaled[start : start + window_size]\n",
    "current_batch = current_batch.reshape(1, window_size, num_features) #Reshape\n",
    "\n",
    "# Predict future\n",
    "for i in range(future):\n",
    "    current_pred = model.predict(current_batch)[0]\n",
    "    prediction.append(current_pred)\n",
    "    current_batch = np.append(current_batch[:,1:,:],[[current_pred]],axis=1)\n",
    "\n",
    "# Inverse transform to before scaling so we get actual values\n",
    "rescaled_prediction = scaler.inverse_transform(prediction)\n",
    "\n",
    "# Plot results\n",
    "plt.figure()\n",
    "plt.plot(x_test[start + window_size: start + window_size + future])\n",
    "plt.plot(rescaled_prediction)\n",
    "plt.show()"
   ]
  },
  {
   "cell_type": "markdown",
   "id": "5054e834-5639-4e94-87f4-10aa7f7b0777",
   "metadata": {},
   "source": [
    "#### Forecast more than one time"
   ]
  },
  {
   "cell_type": "markdown",
   "id": "a31fd94b-42c1-4835-b5b0-4edbcf7681f4",
   "metadata": {},
   "source": [
    "Modify the starting point to forecast future values and the number of forecasting inferences to be made "
   ]
  },
  {
   "cell_type": "code",
   "execution_count": null,
   "id": "9819a82d-e3af-4804-8e6c-fe7ee5d7ddbd",
   "metadata": {},
   "outputs": [],
   "source": [
    "from model_utils import test_forecast\n",
    "\n",
    "start_all  = 0\n",
    "num_inferences = 4"
   ]
  },
  {
   "cell_type": "code",
   "execution_count": null,
   "id": "1947ca3f-0f1c-45da-bdd1-bd7c9fbe1ac3",
   "metadata": {},
   "outputs": [],
   "source": [
    "test_forecast(x_test,\n",
    "              x_test_scaled,\n",
    "              model,\n",
    "              scaler,\n",
    "              window_size,\n",
    "              num_features,\n",
    "              future,\n",
    "              num_inferences,\n",
    "              start_all)"
   ]
  },
  {
   "cell_type": "markdown",
   "id": "9cfaea85-5a9e-4386-914a-1e4edde5f6c9",
   "metadata": {},
   "source": [
    "## 3. Proof of concept: Real time simulation"
   ]
  },
  {
   "cell_type": "code",
   "execution_count": null,
   "id": "4656a9bc-0254-4978-a941-9263f5be1621",
   "metadata": {},
   "outputs": [],
   "source": [
    "import cv2\n",
    "start_all=0\n",
    "while True:\n",
    "    num_inferences = 2\n",
    "    \n",
    "    test_forecast(x_test, x_test_scaled, model, scaler, window_size, num_features, future, num_inferences, start_all)\n",
    "    cv2.waitKey(1)\n",
    "    start_all  += 1\n",
    "\n"
   ]
  }
 ],
 "metadata": {
  "kernelspec": {
   "display_name": "Python 3 (ipykernel)",
   "language": "python",
   "name": "python3"
  },
  "language_info": {
   "codemirror_mode": {
    "name": "ipython",
    "version": 3
   },
   "file_extension": ".py",
   "mimetype": "text/x-python",
   "name": "python",
   "nbconvert_exporter": "python",
   "pygments_lexer": "ipython3",
   "version": "3.8.8"
  }
 },
 "nbformat": 4,
 "nbformat_minor": 5
}
